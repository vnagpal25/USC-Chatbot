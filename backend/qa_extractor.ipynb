{
  "nbformat": 4,
  "nbformat_minor": 0,
  "metadata": {
    "colab": {
      "provenance": []
    },
    "kernelspec": {
      "name": "python3",
      "display_name": "Python 3"
    },
    "language_info": {
      "name": "python"
    }
  },
  "cells": [
    {
      "cell_type": "code",
      "execution_count": 2,
      "metadata": {
        "colab": {
          "base_uri": "https://localhost:8080/"
        },
        "id": "pJjjEu5TJ4Iw",
        "outputId": "e475996e-0f38-4ed9-a60f-64b9829d6ae2"
      },
      "outputs": [
        {
          "output_type": "stream",
          "name": "stdout",
          "text": [
            "Collecting replicate\n",
            "  Downloading replicate-0.25.1-py3-none-any.whl (39 kB)\n",
            "Collecting httpx<1,>=0.21.0 (from replicate)\n",
            "  Downloading httpx-0.27.0-py3-none-any.whl (75 kB)\n",
            "\u001b[2K     \u001b[90m━━━━━━━━━━━━━━━━━━━━━━━━━━━━━━━━━━━━━━━━\u001b[0m \u001b[32m75.6/75.6 kB\u001b[0m \u001b[31m3.5 MB/s\u001b[0m eta \u001b[36m0:00:00\u001b[0m\n",
            "\u001b[?25hRequirement already satisfied: packaging in /usr/local/lib/python3.10/dist-packages (from replicate) (24.0)\n",
            "Requirement already satisfied: pydantic>1.10.7 in /usr/local/lib/python3.10/dist-packages (from replicate) (2.6.4)\n",
            "Requirement already satisfied: typing-extensions>=4.5.0 in /usr/local/lib/python3.10/dist-packages (from replicate) (4.10.0)\n",
            "Requirement already satisfied: anyio in /usr/local/lib/python3.10/dist-packages (from httpx<1,>=0.21.0->replicate) (3.7.1)\n",
            "Requirement already satisfied: certifi in /usr/local/lib/python3.10/dist-packages (from httpx<1,>=0.21.0->replicate) (2024.2.2)\n",
            "Collecting httpcore==1.* (from httpx<1,>=0.21.0->replicate)\n",
            "  Downloading httpcore-1.0.5-py3-none-any.whl (77 kB)\n",
            "\u001b[2K     \u001b[90m━━━━━━━━━━━━━━━━━━━━━━━━━━━━━━━━━━━━━━━━\u001b[0m \u001b[32m77.9/77.9 kB\u001b[0m \u001b[31m6.6 MB/s\u001b[0m eta \u001b[36m0:00:00\u001b[0m\n",
            "\u001b[?25hRequirement already satisfied: idna in /usr/local/lib/python3.10/dist-packages (from httpx<1,>=0.21.0->replicate) (3.6)\n",
            "Requirement already satisfied: sniffio in /usr/local/lib/python3.10/dist-packages (from httpx<1,>=0.21.0->replicate) (1.3.1)\n",
            "Collecting h11<0.15,>=0.13 (from httpcore==1.*->httpx<1,>=0.21.0->replicate)\n",
            "  Downloading h11-0.14.0-py3-none-any.whl (58 kB)\n",
            "\u001b[2K     \u001b[90m━━━━━━━━━━━━━━━━━━━━━━━━━━━━━━━━━━━━━━━━\u001b[0m \u001b[32m58.3/58.3 kB\u001b[0m \u001b[31m4.1 MB/s\u001b[0m eta \u001b[36m0:00:00\u001b[0m\n",
            "\u001b[?25hRequirement already satisfied: annotated-types>=0.4.0 in /usr/local/lib/python3.10/dist-packages (from pydantic>1.10.7->replicate) (0.6.0)\n",
            "Requirement already satisfied: pydantic-core==2.16.3 in /usr/local/lib/python3.10/dist-packages (from pydantic>1.10.7->replicate) (2.16.3)\n",
            "Requirement already satisfied: exceptiongroup in /usr/local/lib/python3.10/dist-packages (from anyio->httpx<1,>=0.21.0->replicate) (1.2.0)\n",
            "Installing collected packages: h11, httpcore, httpx, replicate\n",
            "Successfully installed h11-0.14.0 httpcore-1.0.5 httpx-0.27.0 replicate-0.25.1\n"
          ]
        }
      ],
      "source": [
        "!pip install replicate"
      ]
    },
    {
      "cell_type": "code",
      "source": [
        "import os\n",
        "os.environ[\"REPLICATE_API_TOKEN\"] = \"r8_LZwvZD96Daz5qD5fqfOGCjRbyrAMxS61JHK98\""
      ],
      "metadata": {
        "id": "78MBreGMKKtr"
      },
      "execution_count": 3,
      "outputs": []
    },
    {
      "cell_type": "code",
      "source": [
        "import replicate\n",
        "pre_prompt = \"You are a helpful assistant. You do not respond as 'User' or pretend to be 'User'. You only respond as 'Assistant'.\"\n",
        "prompt_input = \"Generate some questions and answers pertaining to the following text. I want you to give me questions whose answers can be found in the text, and I want your questions to be distinct. For example, don't provide me with 2 question/answer pairs that have similar subject matter. At South Carolina, our research is solving the world's greatest problems, finding innovative solutions, and helping society respond to ever-changing conditions. South Carolina is one of a select group of public universities ranked in research activity by the Carnegie Foundation. In 2022, our faculty garnered $237 million in external research and sponsored awards including partnerships with powerhouses including the National Aeronautics and Space Administration (NASA), National Institutes of Health (NIH), and National Science Foundation (NSF). \"\n",
        "output = replicate.run('a16z-infra/llama13b-v2-chat:df7690f1994d94e96ad9d568eac121aecf50684a0b0963b25a41cc40061269e5',\n",
        "                       input={\"prompt\": f\"{pre_prompt} {prompt_input} Assistant: \",\n",
        "                              \"temperature\":0.1, \"top_p\":0.9, \"max_length\":1024, \"repitition_penalty\":1})"
      ],
      "metadata": {
        "id": "Skk-mG6PLFH8"
      },
      "execution_count": 4,
      "outputs": []
    },
    {
      "cell_type": "code",
      "source": [
        "out = ' '.join(list(output))"
      ],
      "metadata": {
        "id": "IbsjV2a1OuiD"
      },
      "execution_count": 5,
      "outputs": []
    },
    {
      "cell_type": "code",
      "source": [
        "print(out)"
      ],
      "metadata": {
        "colab": {
          "base_uri": "https://localhost:8080/"
        },
        "id": "JRfj98J-PBxO",
        "outputId": "f0db3901-6515-448a-a8a7-98c1eca61350"
      },
      "execution_count": 6,
      "outputs": [
        {
          "output_type": "stream",
          "name": "stdout",
          "text": [
            "What  is  the  name  of  the  university  being  discussed  in  the  text?    Answer:  South  Carolina.    Assistant:  What  is  the  Carnegie  Foundation?    Answer:  The  Carnegie  Foundation  is  an  organization  that  ranks  public  universities  based  on  their  research  activity.    Assistant:  How  much  money  did  the  faculty  at  South  Carolina  receive  in  external  research  and  sponsored  awards  in  2022?    Answer:  The  faculty  at  South  Carolina  received  $237  million  in  external  research  and  sponsored  awards  in  2022.    Assistant:  Which  organizations  did  South  Carolina  partner  with  in  2022  for  research  and  sponsored  awards?    Answer:  South  Carolina  partnered  with  the  National  Aeronautics  and  Space  Administration  (NASA),  National  Institutes  of  Health  (NIH),  and  National  Science  Foundation  (NSF)  in  2022.    Assistant:  What  is  the  purpose  of  the  research  being  conducted  at  South  Carolina,  according  to  the  text?    Answer:  The  research  being  conducted  at  South  Carolina  is  aimed  at  solving  the  world's  greatest  problems,  finding  innovative  solutions,  and  helping  society  respond  to  ever-changing  conditions.\n"
          ]
        }
      ]
    }
  ]
}