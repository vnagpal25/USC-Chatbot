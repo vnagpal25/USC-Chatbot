{
  "cells": [
    {
      "cell_type": "code",
      "execution_count": 1,
      "metadata": {
        "colab": {
          "base_uri": "https://localhost:8080/"
        },
        "id": "pJjjEu5TJ4Iw",
        "outputId": "e475996e-0f38-4ed9-a60f-64b9829d6ae2"
      },
      "outputs": [
        {
          "name": "stdout",
          "output_type": "stream",
          "text": [
            "Collecting replicate\n",
            "  Downloading replicate-0.25.1-py3-none-any.whl.metadata (24 kB)\n",
            "Collecting httpx<1,>=0.21.0 (from replicate)\n",
            "  Downloading httpx-0.27.0-py3-none-any.whl.metadata (7.2 kB)\n",
            "Requirement already satisfied: packaging in /home/arshia/.miniforge3/envs/hackthon/lib/python3.12/site-packages (from replicate) (24.0)\n",
            "Collecting pydantic>1.10.7 (from replicate)\n",
            "  Downloading pydantic-2.6.4-py3-none-any.whl.metadata (85 kB)\n",
            "\u001b[2K     \u001b[38;2;114;156;31m━━━━━━━━━━━━━━━━━━━━━━━━━━━━━━━━━━━━━━━\u001b[0m \u001b[32m85.1/85.1 kB\u001b[0m \u001b[31m288.1 kB/s\u001b[0m eta \u001b[36m0:00:00\u001b[0m1m651.4 kB/s\u001b[0m eta \u001b[36m0:00:01\u001b[0m\n",
            "\u001b[?25hRequirement already satisfied: typing-extensions>=4.5.0 in /home/arshia/.miniforge3/envs/hackthon/lib/python3.12/site-packages (from replicate) (4.10.0)\n",
            "Collecting anyio (from httpx<1,>=0.21.0->replicate)\n",
            "  Downloading anyio-4.3.0-py3-none-any.whl.metadata (4.6 kB)\n",
            "Requirement already satisfied: certifi in /home/arshia/.miniforge3/envs/hackthon/lib/python3.12/site-packages (from httpx<1,>=0.21.0->replicate) (2024.2.2)\n",
            "Collecting httpcore==1.* (from httpx<1,>=0.21.0->replicate)\n",
            "  Downloading httpcore-1.0.5-py3-none-any.whl.metadata (20 kB)\n",
            "Requirement already satisfied: idna in /home/arshia/.miniforge3/envs/hackthon/lib/python3.12/site-packages (from httpx<1,>=0.21.0->replicate) (3.6)\n",
            "Collecting sniffio (from httpx<1,>=0.21.0->replicate)\n",
            "  Downloading sniffio-1.3.1-py3-none-any.whl.metadata (3.9 kB)\n",
            "Collecting h11<0.15,>=0.13 (from httpcore==1.*->httpx<1,>=0.21.0->replicate)\n",
            "  Downloading h11-0.14.0-py3-none-any.whl.metadata (8.2 kB)\n",
            "Collecting annotated-types>=0.4.0 (from pydantic>1.10.7->replicate)\n",
            "  Downloading annotated_types-0.6.0-py3-none-any.whl.metadata (12 kB)\n",
            "Collecting pydantic-core==2.16.3 (from pydantic>1.10.7->replicate)\n",
            "  Downloading pydantic_core-2.16.3-cp312-cp312-manylinux_2_17_x86_64.manylinux2014_x86_64.whl.metadata (6.5 kB)\n",
            "Downloading replicate-0.25.1-py3-none-any.whl (39 kB)\n",
            "Downloading httpx-0.27.0-py3-none-any.whl (75 kB)\n",
            "\u001b[2K   \u001b[38;2;114;156;31m━━━━━━━━━━━━━━━━━━━━━━━━━━━━━━━━━━━━━━━━\u001b[0m \u001b[32m75.6/75.6 kB\u001b[0m \u001b[31m851.8 kB/s\u001b[0m eta \u001b[36m0:00:00\u001b[0m1m1.3 MB/s\u001b[0m eta \u001b[36m0:00:01\u001b[0m\n",
            "\u001b[?25hDownloading httpcore-1.0.5-py3-none-any.whl (77 kB)\n",
            "\u001b[2K   \u001b[38;2;114;156;31m━━━━━━━━━━━━━━━━━━━━━━━━━━━━━━━━━━━━━━━━\u001b[0m \u001b[32m77.9/77.9 kB\u001b[0m \u001b[31m646.4 kB/s\u001b[0m eta \u001b[36m0:00:00\u001b[0m1m646.1 kB/s\u001b[0m eta \u001b[36m0:00:01\u001b[0m\n",
            "\u001b[?25hDownloading pydantic-2.6.4-py3-none-any.whl (394 kB)\n",
            "\u001b[2K   \u001b[38;2;114;156;31m━━━━━━━━━━━━━━━━━━━━━━━━━━━━━━━━━━━━━━━\u001b[0m \u001b[32m394.9/394.9 kB\u001b[0m \u001b[31m670.9 kB/s\u001b[0m eta \u001b[36m0:00:00\u001b[0m[36m0:00:01\u001b[0m[36m0:00:01\u001b[0m\n",
            "\u001b[?25hDownloading pydantic_core-2.16.3-cp312-cp312-manylinux_2_17_x86_64.manylinux2014_x86_64.whl (2.2 MB)\n",
            "\u001b[2K   \u001b[38;2;114;156;31m━━━━━━━━━━━━━━━━━━━━━━━━━━━━━━━━━━━━━━━━\u001b[0m \u001b[32m2.2/2.2 MB\u001b[0m \u001b[31m882.4 kB/s\u001b[0m eta \u001b[36m0:00:00\u001b[0mm eta \u001b[36m0:00:01\u001b[0m[36m0:00:01\u001b[0m\n",
            "\u001b[?25hDownloading annotated_types-0.6.0-py3-none-any.whl (12 kB)\n",
            "Downloading anyio-4.3.0-py3-none-any.whl (85 kB)\n",
            "\u001b[2K   \u001b[38;2;114;156;31m━━━━━━━━━━━━━━━━━━━━━━━━━━━━━━━━━━━━━━━━\u001b[0m \u001b[32m85.6/85.6 kB\u001b[0m \u001b[31m732.4 kB/s\u001b[0m eta \u001b[36m0:00:00\u001b[0m kB/s\u001b[0m eta \u001b[36m0:00:01\u001b[0m:01\u001b[0m\n",
            "\u001b[?25hDownloading sniffio-1.3.1-py3-none-any.whl (10 kB)\n",
            "Downloading h11-0.14.0-py3-none-any.whl (58 kB)\n",
            "\u001b[2K   \u001b[38;2;114;156;31m━━━━━━━━━━━━━━━━━━━━━━━━━━━━━━━━━━━━━━━━\u001b[0m \u001b[32m58.3/58.3 kB\u001b[0m \u001b[31m1.1 MB/s\u001b[0m eta \u001b[36m0:00:00\u001b[0m MB/s\u001b[0m eta \u001b[36m0:00:01\u001b[0m\n",
            "\u001b[?25hInstalling collected packages: sniffio, pydantic-core, h11, annotated-types, pydantic, httpcore, anyio, httpx, replicate\n",
            "Successfully installed annotated-types-0.6.0 anyio-4.3.0 h11-0.14.0 httpcore-1.0.5 httpx-0.27.0 pydantic-2.6.4 pydantic-core-2.16.3 replicate-0.25.1 sniffio-1.3.1\n"
          ]
        }
      ],
      "source": [
        "!pip install replicate"
      ]
    },
    {
      "cell_type": "code",
      "execution_count": 71,
      "metadata": {
        "id": "78MBreGMKKtr"
      },
      "outputs": [],
      "source": [
        "import os\n",
        "import replicate\n",
        "import json\n",
        "os.environ[\"REPLICATE_API_TOKEN\"] = \"r8_PXj00TYpXHjjO1pkuG2Q8aJwqzghooQ13F16B\""
      ]
    },
    {
      "cell_type": "code",
      "execution_count": 72,
      "metadata": {},
      "outputs": [
        {
          "name": "stdout",
          "output_type": "stream",
          "text": [
            "38053\n"
          ]
        }
      ],
      "source": [
        "with open(\"output.json\", \"r\") as f:\n",
        "  text_list = json.load(f)\n",
        "print(len(text_list))"
      ]
    },
    {
      "cell_type": "code",
      "execution_count": 73,
      "metadata": {
        "id": "Skk-mG6PLFH8"
      },
      "outputs": [
        {
          "ename": "ReplicateError",
          "evalue": "ReplicateError Details:\ntitle: Free time limit reached\nstatus: 402\ndetail: You have reached the free time limit. To continue using Replicate, set up billing at https://replicate.com/account/billing#billing.",
          "output_type": "error",
          "traceback": [
            "\u001b[0;31m---------------------------------------------------------------------------\u001b[0m",
            "\u001b[0;31mReplicateError\u001b[0m                            Traceback (most recent call last)",
            "\u001b[1;32m/home/arshia/hackthon/USC-Chatbot/backend/qa_extractor.ipynb Cell 4\u001b[0m line \u001b[0;36m1\n\u001b[1;32m      <a href='vscode-notebook-cell:/home/arshia/hackthon/USC-Chatbot/backend/qa_extractor.ipynb#W2sZmlsZQ%3D%3D?line=6'>7</a>\u001b[0m web_txt \u001b[39m=\u001b[39m \u001b[39m\"\u001b[39m\u001b[39mAt South Carolina, our research is solving the world\u001b[39m\u001b[39m'\u001b[39m\u001b[39ms greatest problems, finding innovative solutions, and helping society respond to ever-changing conditions. South Carolina is one of a select group of public universities ranked in research activity by the Carnegie Foundation. In 2022, our faculty garnered $237 million in external research and sponsored awards including partnerships with powerhouses including the National Aeronautics and Space Administration (NASA), National Institutes of Health (NIH), and National Science Foundation (NSF).\u001b[39m\u001b[39m\"\u001b[39m\n\u001b[1;32m      <a href='vscode-notebook-cell:/home/arshia/hackthon/USC-Chatbot/backend/qa_extractor.ipynb#W2sZmlsZQ%3D%3D?line=8'>9</a>\u001b[0m prompt_input \u001b[39m+\u001b[39m\u001b[39m=\u001b[39m web_txt\n\u001b[0;32m---> <a href='vscode-notebook-cell:/home/arshia/hackthon/USC-Chatbot/backend/qa_extractor.ipynb#W2sZmlsZQ%3D%3D?line=9'>10</a>\u001b[0m output \u001b[39m=\u001b[39m replicate\u001b[39m.\u001b[39;49mrun(\u001b[39m'\u001b[39;49m\u001b[39ma16z-infra/llama13b-v2-chat:df7690f1994d94e96ad9d568eac121aecf50684a0b0963b25a41cc40061269e5\u001b[39;49m\u001b[39m'\u001b[39;49m,\n\u001b[1;32m     <a href='vscode-notebook-cell:/home/arshia/hackthon/USC-Chatbot/backend/qa_extractor.ipynb#W2sZmlsZQ%3D%3D?line=10'>11</a>\u001b[0m                      \u001b[39minput\u001b[39;49m\u001b[39m=\u001b[39;49m{\u001b[39m\"\u001b[39;49m\u001b[39mprompt\u001b[39;49m\u001b[39m\"\u001b[39;49m: \u001b[39mf\u001b[39;49m\u001b[39m\"\u001b[39;49m\u001b[39m{\u001b[39;49;00mprompt_input\u001b[39m}\u001b[39;49;00m\u001b[39m Assistant: \u001b[39;49m\u001b[39m\"\u001b[39;49m,\n\u001b[1;32m     <a href='vscode-notebook-cell:/home/arshia/hackthon/USC-Chatbot/backend/qa_extractor.ipynb#W2sZmlsZQ%3D%3D?line=11'>12</a>\u001b[0m                             \u001b[39m\"\u001b[39;49m\u001b[39mtemperature\u001b[39;49m\u001b[39m\"\u001b[39;49m:\u001b[39m0.1\u001b[39;49m, \u001b[39m\"\u001b[39;49m\u001b[39mtop_p\u001b[39;49m\u001b[39m\"\u001b[39;49m:\u001b[39m0.9\u001b[39;49m, \u001b[39m\"\u001b[39;49m\u001b[39mmax_length\u001b[39;49m\u001b[39m\"\u001b[39;49m: \u001b[39m512\u001b[39;49m, \u001b[39m\"\u001b[39;49m\u001b[39mrepitition_penalty\u001b[39;49m\u001b[39m\"\u001b[39;49m:\u001b[39m1\u001b[39;49m})\n\u001b[1;32m     <a href='vscode-notebook-cell:/home/arshia/hackthon/USC-Chatbot/backend/qa_extractor.ipynb#W2sZmlsZQ%3D%3D?line=13'>14</a>\u001b[0m out_txt\u001b[39m=\u001b[39m \u001b[39m\"\u001b[39m\u001b[39m\"\u001b[39m\n\u001b[1;32m     <a href='vscode-notebook-cell:/home/arshia/hackthon/USC-Chatbot/backend/qa_extractor.ipynb#W2sZmlsZQ%3D%3D?line=14'>15</a>\u001b[0m \u001b[39mfor\u001b[39;00m item \u001b[39min\u001b[39;00m output:\n",
            "File \u001b[0;32m~/.miniforge3/envs/hackthon/lib/python3.12/site-packages/replicate/client.py:157\u001b[0m, in \u001b[0;36mClient.run\u001b[0;34m(self, ref, input, **params)\u001b[0m\n\u001b[1;32m    147\u001b[0m \u001b[39mdef\u001b[39;00m \u001b[39mrun\u001b[39m(\n\u001b[1;32m    148\u001b[0m     \u001b[39mself\u001b[39m,\n\u001b[1;32m    149\u001b[0m     ref: \u001b[39mstr\u001b[39m,\n\u001b[1;32m    150\u001b[0m     \u001b[39minput\u001b[39m: Optional[Dict[\u001b[39mstr\u001b[39m, Any]] \u001b[39m=\u001b[39m \u001b[39mNone\u001b[39;00m,\n\u001b[1;32m    151\u001b[0m     \u001b[39m*\u001b[39m\u001b[39m*\u001b[39mparams: Unpack[\u001b[39m\"\u001b[39m\u001b[39mPredictions.CreatePredictionParams\u001b[39m\u001b[39m\"\u001b[39m],\n\u001b[1;32m    152\u001b[0m ) \u001b[39m-\u001b[39m\u001b[39m>\u001b[39m Union[Any, Iterator[Any]]:  \u001b[39m# noqa: ANN401\u001b[39;00m\n\u001b[1;32m    153\u001b[0m \u001b[39m    \u001b[39m\u001b[39m\"\"\"\u001b[39;00m\n\u001b[1;32m    154\u001b[0m \u001b[39m    Run a model and wait for its output.\u001b[39;00m\n\u001b[1;32m    155\u001b[0m \u001b[39m    \"\"\"\u001b[39;00m\n\u001b[0;32m--> 157\u001b[0m     \u001b[39mreturn\u001b[39;00m run(\u001b[39mself\u001b[39;49m, ref, \u001b[39minput\u001b[39;49m, \u001b[39m*\u001b[39;49m\u001b[39m*\u001b[39;49mparams)\n",
            "File \u001b[0;32m~/.miniforge3/envs/hackthon/lib/python3.12/site-packages/replicate/run.py:40\u001b[0m, in \u001b[0;36mrun\u001b[0;34m(client, ref, input, **params)\u001b[0m\n\u001b[1;32m     37\u001b[0m version, owner, name, version_id \u001b[39m=\u001b[39m identifier\u001b[39m.\u001b[39m_resolve(ref)\n\u001b[1;32m     39\u001b[0m \u001b[39mif\u001b[39;00m version_id \u001b[39mis\u001b[39;00m \u001b[39mnot\u001b[39;00m \u001b[39mNone\u001b[39;00m:\n\u001b[0;32m---> 40\u001b[0m     prediction \u001b[39m=\u001b[39m client\u001b[39m.\u001b[39;49mpredictions\u001b[39m.\u001b[39;49mcreate(\n\u001b[1;32m     41\u001b[0m         version\u001b[39m=\u001b[39;49mversion_id, \u001b[39minput\u001b[39;49m\u001b[39m=\u001b[39;49m\u001b[39minput\u001b[39;49m \u001b[39mor\u001b[39;49;00m {}, \u001b[39m*\u001b[39;49m\u001b[39m*\u001b[39;49mparams\n\u001b[1;32m     42\u001b[0m     )\n\u001b[1;32m     43\u001b[0m \u001b[39melif\u001b[39;00m owner \u001b[39mand\u001b[39;00m name:\n\u001b[1;32m     44\u001b[0m     prediction \u001b[39m=\u001b[39m client\u001b[39m.\u001b[39mmodels\u001b[39m.\u001b[39mpredictions\u001b[39m.\u001b[39mcreate(\n\u001b[1;32m     45\u001b[0m         model\u001b[39m=\u001b[39m(owner, name), \u001b[39minput\u001b[39m\u001b[39m=\u001b[39m\u001b[39minput\u001b[39m \u001b[39mor\u001b[39;00m {}, \u001b[39m*\u001b[39m\u001b[39m*\u001b[39mparams\n\u001b[1;32m     46\u001b[0m     )\n",
            "File \u001b[0;32m~/.miniforge3/envs/hackthon/lib/python3.12/site-packages/replicate/prediction.py:398\u001b[0m, in \u001b[0;36mPredictions.create\u001b[0;34m(self, version, input, **params)\u001b[0m\n\u001b[1;32m    389\u001b[0m \u001b[39m\u001b[39m\u001b[39m\"\"\"\u001b[39;00m\n\u001b[1;32m    390\u001b[0m \u001b[39mCreate a new prediction for the specified model version.\u001b[39;00m\n\u001b[1;32m    391\u001b[0m \u001b[39m\"\"\"\u001b[39;00m\n\u001b[1;32m    393\u001b[0m body \u001b[39m=\u001b[39m _create_prediction_body(\n\u001b[1;32m    394\u001b[0m     version,\n\u001b[1;32m    395\u001b[0m     \u001b[39minput\u001b[39m,\n\u001b[1;32m    396\u001b[0m     \u001b[39m*\u001b[39m\u001b[39m*\u001b[39mparams,\n\u001b[1;32m    397\u001b[0m )\n\u001b[0;32m--> 398\u001b[0m resp \u001b[39m=\u001b[39m \u001b[39mself\u001b[39;49m\u001b[39m.\u001b[39;49m_client\u001b[39m.\u001b[39;49m_request(\n\u001b[1;32m    399\u001b[0m     \u001b[39m\"\u001b[39;49m\u001b[39mPOST\u001b[39;49m\u001b[39m\"\u001b[39;49m,\n\u001b[1;32m    400\u001b[0m     \u001b[39m\"\u001b[39;49m\u001b[39m/v1/predictions\u001b[39;49m\u001b[39m\"\u001b[39;49m,\n\u001b[1;32m    401\u001b[0m     json\u001b[39m=\u001b[39;49mbody,\n\u001b[1;32m    402\u001b[0m )\n\u001b[1;32m    404\u001b[0m \u001b[39mreturn\u001b[39;00m _json_to_prediction(\u001b[39mself\u001b[39m\u001b[39m.\u001b[39m_client, resp\u001b[39m.\u001b[39mjson())\n",
            "File \u001b[0;32m~/.miniforge3/envs/hackthon/lib/python3.12/site-packages/replicate/client.py:87\u001b[0m, in \u001b[0;36mClient._request\u001b[0;34m(self, method, path, **kwargs)\u001b[0m\n\u001b[1;32m     85\u001b[0m \u001b[39mdef\u001b[39;00m \u001b[39m_request\u001b[39m(\u001b[39mself\u001b[39m, method: \u001b[39mstr\u001b[39m, path: \u001b[39mstr\u001b[39m, \u001b[39m*\u001b[39m\u001b[39m*\u001b[39mkwargs) \u001b[39m-\u001b[39m\u001b[39m>\u001b[39m httpx\u001b[39m.\u001b[39mResponse:\n\u001b[1;32m     86\u001b[0m     resp \u001b[39m=\u001b[39m \u001b[39mself\u001b[39m\u001b[39m.\u001b[39m_client\u001b[39m.\u001b[39mrequest(method, path, \u001b[39m*\u001b[39m\u001b[39m*\u001b[39mkwargs)\n\u001b[0;32m---> 87\u001b[0m     _raise_for_status(resp)\n\u001b[1;32m     89\u001b[0m     \u001b[39mreturn\u001b[39;00m resp\n",
            "File \u001b[0;32m~/.miniforge3/envs/hackthon/lib/python3.12/site-packages/replicate/client.py:367\u001b[0m, in \u001b[0;36m_raise_for_status\u001b[0;34m(resp)\u001b[0m\n\u001b[1;32m    365\u001b[0m \u001b[39mdef\u001b[39;00m \u001b[39m_raise_for_status\u001b[39m(resp: httpx\u001b[39m.\u001b[39mResponse) \u001b[39m-\u001b[39m\u001b[39m>\u001b[39m \u001b[39mNone\u001b[39;00m:\n\u001b[1;32m    366\u001b[0m     \u001b[39mif\u001b[39;00m \u001b[39m400\u001b[39m \u001b[39m<\u001b[39m\u001b[39m=\u001b[39m resp\u001b[39m.\u001b[39mstatus_code \u001b[39m<\u001b[39m \u001b[39m600\u001b[39m:\n\u001b[0;32m--> 367\u001b[0m         \u001b[39mraise\u001b[39;00m ReplicateError\u001b[39m.\u001b[39mfrom_response(resp)\n",
            "\u001b[0;31mReplicateError\u001b[0m: ReplicateError Details:\ntitle: Free time limit reached\nstatus: 402\ndetail: You have reached the free time limit. To continue using Replicate, set up billing at https://replicate.com/account/billing#billing."
          ]
        }
      ],
      "source": [
        "ques = []\n",
        "\n",
        "for idx,item in enumerate(text_list):\n",
        "       if (idx < 10):\n",
        "              # pre_prompt = \"\" \"You are a helpful assistant. You do not respond as 'User' or pretend to be 'User'. You only respond as 'Assistant'.\"\n",
        "              prompt_input = \"Generate some questions and answers pertaining to the following text. I want you to give me questions and answers whose answers can be found in the text, and I want your questions to be distinct. For example, don't provide me with 2 question/answer pairs that have similar subject matter. Structure them as Question:    Answer:   \"\n",
        "              web_txt = \"At South Carolina, our research is solving the world's greatest problems, finding innovative solutions, and helping society respond to ever-changing conditions. South Carolina is one of a select group of public universities ranked in research activity by the Carnegie Foundation. In 2022, our faculty garnered $237 million in external research and sponsored awards including partnerships with powerhouses including the National Aeronautics and Space Administration (NASA), National Institutes of Health (NIH), and National Science Foundation (NSF).\"\n",
        "\n",
        "              prompt_input += web_txt\n",
        "              output = replicate.run('a16z-infra/llama13b-v2-chat:df7690f1994d94e96ad9d568eac121aecf50684a0b0963b25a41cc40061269e5',\n",
        "                                   input={\"prompt\": f\"{prompt_input} Assistant: \",\n",
        "                                          \"temperature\":0.1, \"top_p\":0.9, \"max_length\": 512, \"repitition_penalty\":1})\n",
        "              \n",
        "              out_txt= \"\"\n",
        "              for item in output:\n",
        "                     out_txt+=item\n",
        "              print(out_txt)\n",
        "              # ques.append(())\n",
        "\n"
      ]
    },
    {
      "cell_type": "code",
      "execution_count": 66,
      "metadata": {},
      "outputs": [
        {
          "name": "stdout",
          "output_type": "stream",
          "text": [
            "What are some of the world's greatest problems that South Carolina is addressing through research? Answer: Some of the world's greatest problems that South Carolina is addressing through research include finding innovative solutions to ever-changing conditions, responding to the challenges of climate change, and improving human health and well-being. Question: What is the significance of South Carolina being one of a select group of public universities ranked in research activity by the Carnegie Foundation? Answer: The significance of South Carolina being one of a select group of public universities ranked in research activity by the Carnegie Foundation is that it highlights the university's commitment to research and innovation, and demonstrates the university's ability to compete with top-tier research institutions. Question: What are some of the notable partnerships that South Carolina has established to support its research efforts? Answer: Some of the notable partnerships that South Carolina has established to support its research efforts include partnerships with the National Aeronautics and Space Administration (NASA), National Institutes of Health (NIH), and National Science Foundation (NSF). Question: How much funding did South Carolina faculty receive in external research and sponsored awards in 2022? Answer: In 2022, South Carolina faculty received $237 million in external research and sponsored awards. Question: What is the purpose of South Carolina's research efforts, according to the text? Answer: According to the text, the purpose of South Carolina's research efforts is to find\n"
          ]
        }
      ],
      "source": [
        "print(out_txt)"
      ]
    },
    {
      "cell_type": "code",
      "execution_count": 59,
      "metadata": {
        "id": "IbsjV2a1OuiD"
      },
      "outputs": [],
      "source": [
        "out = ' '.join(list(output))"
      ]
    },
    {
      "cell_type": "code",
      "execution_count": null,
      "metadata": {},
      "outputs": [],
      "source": []
    }
  ],
  "metadata": {
    "colab": {
      "provenance": []
    },
    "kernelspec": {
      "display_name": "Python 3",
      "name": "python3"
    },
    "language_info": {
      "codemirror_mode": {
        "name": "ipython",
        "version": 3
      },
      "file_extension": ".py",
      "mimetype": "text/x-python",
      "name": "python",
      "nbconvert_exporter": "python",
      "pygments_lexer": "ipython3",
      "version": "3.12.2"
    }
  },
  "nbformat": 4,
  "nbformat_minor": 0
}
